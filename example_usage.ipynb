{
  "cells": [
    {
      "cell_type": "markdown",
      "id": "0d6d315f",
      "metadata": {
        "id": "0d6d315f"
      },
      "source": [
        "## Relaxation on Perovskite Structures using Perovs-IAP\n",
        "This notebook would aid you in loading our fine-tuned M3GNET model Perovs-IAP, and relax a perovskite structure from the Materials Project. We also plot the relaxation trajectory which shows how the relaxation proceeds. Only use the installation commands if you are running on colab. Or else, make an evironment directly for better usage.\n"
      ]
    },
    {
      "cell_type": "code",
      "execution_count": null,
      "id": "iRNc8VgIC-2I",
      "metadata": {
        "id": "iRNc8VgIC-2I"
      },
      "outputs": [],
      "source": [
        "#ignore warnings command\n",
        "import warnings\n",
        "warnings.filterwarnings('ignore')"
      ]
    },
    {
      "cell_type": "code",
      "execution_count": null,
      "id": "Q5a5zkKjlpXZ",
      "metadata": {
        "id": "Q5a5zkKjlpXZ"
      },
      "outputs": [],
      "source": [
        "#Uninstall conflicting libraries\n",
        "!pip uninstall -y torch torchaudio torchvision torchdata torchtune thinc numpy\n",
        "\n",
        "# Install matgl and its dependencies\n",
        "!pip install matgl"
      ]
    },
    {
      "cell_type": "code",
      "execution_count": null,
      "id": "1a4ef9d0",
      "metadata": {
        "id": "1a4ef9d0"
      },
      "outputs": [],
      "source": [
        "!pip uninstall dgl -y\n",
        "!pip install  dgl -f https://data.dgl.ai/wheels/torch-2.4/repo.html"
      ]
    },
    {
      "cell_type": "code",
      "execution_count": null,
      "id": "weQUNpWwl5UR",
      "metadata": {
        "id": "weQUNpWwl5UR"
      },
      "outputs": [],
      "source": [
        "!pip install mp_api pymatgen ase"
      ]
    },
    {
      "cell_type": "code",
      "execution_count": null,
      "id": "b3b29598",
      "metadata": {
        "id": "b3b29598"
      },
      "outputs": [],
      "source": [
        "from mp_api.client import MPRester\n",
        "import ast\n",
        "from matgl import load_model\n",
        "from matgl.ext.ase import Relaxer\n",
        "from pymatgen.core import Structure"
      ]
    },
    {
      "cell_type": "markdown",
      "id": "e199859e",
      "metadata": {
        "id": "e199859e"
      },
      "source": [
        "First, let's get a perovskite structure from the Materials Project, you would need your API-key for this. Make sure to get a perovskite structure to obtain accurate results."
      ]
    },
    {
      "cell_type": "code",
      "execution_count": null,
      "id": "cc801b49",
      "metadata": {
        "id": "cc801b49"
      },
      "outputs": [],
      "source": [
        "API_KEY = \"9J76AeTI0TGu0SUAJS0BafOasktJ2CzB\" #get your API key from https://next-gen.materialsproject.org/api\n",
        "with MPRester(API_KEY) as mpr:\n",
        "    # Get a perovskite structure from Materials Project\n",
        "    structure = mpr.get_structure_by_material_id(\"mp-540839\", conventional_unit_cell=True)  #Orthorhombic CsPbI3, you can use whatever you like\n",
        "    structure.to(\"POSCAR\", fmt=\"poscar\")"
      ]
    },
    {
      "cell_type": "markdown",
      "id": "6d78bc01",
      "metadata": {
        "id": "6d78bc01"
      },
      "source": [
        "Let us load the structure, and the model, and start the relaxation.\n",
        "\n",
        "Similiar to a standard DFT, you can adjust whether or not to relax the cell, or change the force tolerance."
      ]
    },
    {
      "cell_type": "code",
      "execution_count": null,
      "id": "Vkdl9YWLpmeU",
      "metadata": {
        "id": "Vkdl9YWLpmeU"
      },
      "outputs": [],
      "source": [
        "!git clone https://github.com/maitreyo18/Fine-tuned-Perovs-IAP-for-Unified-Perovskite-Structure-Optimization.git"
      ]
    },
    {
      "cell_type": "code",
      "execution_count": null,
      "id": "ee9a6ef3",
      "metadata": {
        "id": "ee9a6ef3"
      },
      "outputs": [],
      "source": [
        "struct = Structure.from_file(\"POSCAR\")\n",
        "pot = load_model(\"Fine-tuned-Perovs-IAP-for-Unified-Perovskite-Structure-Optimization/Perovs-IAP_finetuned_bulk+defect+surface_2025_PES\")\n",
        "relaxer = Relaxer(pot, relax_cell=False)  # Set relax_cell to True if you want to relax the cell parameters"
      ]
    },
    {
      "cell_type": "code",
      "execution_count": null,
      "id": "t2cLw-zG0aNA",
      "metadata": {
        "id": "t2cLw-zG0aNA"
      },
      "outputs": [],
      "source": [
        "relaxed_struct = relaxer.relax(struct, fmax=0.001, steps=100)"
      ]
    },
    {
      "cell_type": "code",
      "execution_count": null,
      "id": "0caf4dea",
      "metadata": {
        "id": "0caf4dea"
      },
      "outputs": [],
      "source": [
        "import matplotlib.pyplot as plt\n",
        "import matplotlib.font_manager as fm\n",
        "\n",
        "# Set font style to Arial Narrow using the uploaded file\n",
        "font_path = '/content/Fine-tuned-Perovs-IAP-for-Unified-Perovskite-Structure-Optimization/arialnarrow.ttf'\n",
        "try:\n",
        "    # Add the font to Matplotlib's font manager\n",
        "    fm.fontManager.addfont(font_path)\n",
        "    plt.rcParams['font.family'] = 'Arial Narrow'\n",
        "except Exception as e:\n",
        "    plt.rcParams['font.family'] = 'sans-serif'\n",
        "\n",
        "\n",
        "# Set large font sizes\n",
        "plt.rcParams['axes.titlesize'] = 24\n",
        "plt.rcParams['axes.labelsize'] = 24\n",
        "plt.rcParams['xtick.labelsize'] = 24\n",
        "plt.rcParams['ytick.labelsize'] = 24\n",
        "plt.rcParams['legend.fontsize'] = 24\n",
        "plt.rcParams['figure.titlesize'] = 24\n",
        "\n",
        "# Plot the trajectory side by side\n",
        "fig, axes = plt.subplots(1, 2, figsize=(14, 8)) # Create a figure with 1 row and 2 columns\n",
        "\n",
        "steps = range(len(relaxed_struct['trajectory'].energies))\n",
        "energies = relaxed_struct['trajectory'].energies\n",
        "forces = relaxed_struct['trajectory'].forces\n",
        "force_magnitudes = [sum(f**2 for f in step_forces.flatten())**0.5 for step_forces in forces]\n",
        "\n",
        "# Print final energy and force magnitude\n",
        "print(f\"Final Energy: {energies[-1]:.4f} eV\")\n",
        "print(f\"Final Force Magnitude: {force_magnitudes[-1]:.4f} eV/Angstrom\")\n",
        "\n",
        "# Calculate and print energy difference per atom\n",
        "initial_energy = energies[0]\n",
        "final_energy = energies[-1]\n",
        "num_atoms = len(relaxed_struct['final_structure'])\n",
        "energy_difference_per_atom = (final_energy - initial_energy) / num_atoms\n",
        "print(f\"Energy Difference per Atom: {energy_difference_per_atom:.4f} eV/atom\")\n",
        "\n",
        "\n",
        "# Plot Energy Trajectory in the left subplot\n",
        "axes[0].plot(steps, energies, marker='o', linestyle='-', color='blue')\n",
        "axes[0].set_xlabel('Relaxation Step')\n",
        "axes[0].set_ylabel('Energy (eV)')\n",
        "axes[0].set_title('Energy Trajectory')\n",
        "axes[0].grid(True)\n",
        "\n",
        "# Plot Force Magnitude Trajectory in the right subplot\n",
        "axes[1].plot(steps, force_magnitudes, marker='x', linestyle='--', color='red')\n",
        "axes[1].set_xlabel('Relaxation Step')\n",
        "axes[1].set_ylabel('Force Magnitude (eV/Angstrom)')\n",
        "axes[1].set_title('Force Magnitude Trajectory')\n",
        "axes[1].grid(True)\n",
        "\n",
        "plt.tight_layout() # Adjust layout to prevent overlapping titles/labels\n",
        "plt.show()"
      ]
    },
    {
      "cell_type": "code",
      "execution_count": null,
      "id": "ihGCtxVYyvcp",
      "metadata": {
        "id": "ihGCtxVYyvcp"
      },
      "outputs": [],
      "source": [
        "relaxed_struct['final_structure'].to(\"POSCAR_relaxed\", fmt=\"poscar\")"
      ]
    },
    {
      "cell_type": "code",
      "execution_count": null,
      "id": "ZXbdoCw0267B",
      "metadata": {
        "id": "ZXbdoCw0267B"
      },
      "outputs": [],
      "source": []
    }
  ],
  "metadata": {
    "colab": {
      "gpuType": "T4",
      "provenance": []
    },
    "kernelspec": {
      "display_name": "Python 3",
      "name": "python3"
    },
    "language_info": {
      "codemirror_mode": {
        "name": "ipython",
        "version": 3
      },
      "file_extension": ".py",
      "mimetype": "text/x-python",
      "name": "python",
      "nbconvert_exporter": "python",
      "pygments_lexer": "ipython3",
      "version": "3.12.3"
    }
  },
  "nbformat": 4,
  "nbformat_minor": 5
}
